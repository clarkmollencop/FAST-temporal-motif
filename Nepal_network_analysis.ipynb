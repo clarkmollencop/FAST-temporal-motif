{
 "cells": [
  {
   "cell_type": "code",
   "execution_count": 1,
   "id": "a97f40c4",
   "metadata": {},
   "outputs": [],
   "source": [
    "# Clark Mollencop\n",
    "# analyzing the Nepal network with the 3 edge motif counts"
   ]
  },
  {
   "cell_type": "code",
   "execution_count": 2,
   "id": "18016777",
   "metadata": {},
   "outputs": [],
   "source": [
    "import pandas as pd\n",
    "import seaborn as sns\n",
    "import networkx as nx\n",
    "import subprocess # to call the C++ executable that actually does the network analysis\n",
    "import glob # to work with files later on"
   ]
  },
  {
   "cell_type": "code",
   "execution_count": 3,
   "id": "e93a289b",
   "metadata": {},
   "outputs": [
    {
     "name": "stdout",
     "output_type": "stream",
     "text": [
      "edgeNum: 108\n",
      "inserting...\n",
      "sorting...\n",
      "loaded file\n"
     ]
    }
   ],
   "source": [
    "# runs the program with the command line arguments\n",
    "process = subprocess.Popen([\"./FAST_temporal_motif\", \"-input\", \"input/testAll.txt\", \"-output\", \"output/outputAll.txt\", \"-timesOut\", \"timesAll.txt\", \"-w\", \"3\"])"
   ]
  },
  {
   "cell_type": "code",
   "execution_count": null,
   "id": "30c4e5cd",
   "metadata": {},
   "outputs": [],
   "source": []
  }
 ],
 "metadata": {
  "kernelspec": {
   "display_name": "Python 3 (ipykernel)",
   "language": "python",
   "name": "python3"
  },
  "language_info": {
   "codemirror_mode": {
    "name": "ipython",
    "version": 3
   },
   "file_extension": ".py",
   "mimetype": "text/x-python",
   "name": "python",
   "nbconvert_exporter": "python",
   "pygments_lexer": "ipython3",
   "version": "3.8.10"
  }
 },
 "nbformat": 4,
 "nbformat_minor": 5
}
