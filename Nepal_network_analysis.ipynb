{
 "cells": [
  {
   "cell_type": "code",
   "execution_count": 1,
   "id": "868b4bac",
   "metadata": {},
   "outputs": [],
   "source": [
    "# Clark Mollencop\n",
    "# analyzing the Nepal network with the 3 edge motif counts\n",
    "# Summer 2022"
   ]
  },
  {
   "cell_type": "code",
   "execution_count": 2,
   "id": "063c0f2d",
   "metadata": {},
   "outputs": [],
   "source": [
    "import pandas as pd\n",
    "import seaborn as sns\n",
    "import networkx as nx\n",
    "import subprocess # to call the C++ executable that actually does the network analysis\n",
    "import glob # to work with files later on\n",
    "import bidirec_script # for input/formatting"
   ]
  },
  {
   "cell_type": "code",
   "execution_count": 3,
   "id": "db6f3b96",
   "metadata": {},
   "outputs": [],
   "source": [
    "# runs the program with the command line arguments\n",
    "# process = subprocess.Popen([\"./FAST_temporal_motif\", \"-input\", \"input/testAll.txt\", \"-output\", \"output/outputAll.txt\", \"-timesOut\", \"output/timesAll.txt\", \"-w\", \"3\"])"
   ]
  },
  {
   "cell_type": "code",
   "execution_count": 4,
   "id": "502f7eb8",
   "metadata": {},
   "outputs": [
    {
     "name": "stdout",
     "output_type": "stream",
     "text": [
      "      source     target  timestamp\n",
      "0      Banke      Banke          1\n",
      "1       Bara      Banke          1\n",
      "2       Bara       Bara          1\n",
      "3       Bara  Bhaktapur          1\n",
      "4       Bara    Chitwan          1\n",
      "...      ...        ...        ...\n",
      "3975  Siraha     Siraha         12\n",
      "3976  Siraha    Sunsari         12\n",
      "3977  Siraha    Surkhet         12\n",
      "3978  Siraha    Syangja         12\n",
      "3979  Siraha  Taplejung         12\n",
      "\n",
      "[3980 rows x 3 columns]\n"
     ]
    }
   ],
   "source": [
    "#### this cell: convert Nepal network to correct format ####\n",
    "df = bidirec_script.read_file('networks/nepal.txt', ',', 0, 1, 3)\n",
    "print(df)\n",
    "# first, change source/destination names to ints because that is the format expected by the C++ program\n",
    "df['source_id'] = pd.Categorical(df['source']).codes\n",
    "# get map of all sources and their ids\n",
    "locations = {}\n",
    "for index, data in df.iterrows():\n",
    "    if data['source'] not in locations.keys():\n",
    "        locations[data['source']] = data['source_id']\n",
    "# now, go through the targets in the dataframe and create their destination int id\n",
    "dests = []\n",
    "newindex = len(locations.keys())\n",
    "for index, data in df.iterrows():\n",
    "    if data['target'] in locations.keys():\n",
    "        dests.append(locations[data['target']])\n",
    "    else:\n",
    "        locations[data['target']] = newindex\n",
    "        dests.append(newindex)\n",
    "        newindex += 1\n",
    "# now add that as dest_id to the original df\n",
    "df['dest_id'] = dests\n",
    "# drop unnecessary columns\n",
    "newdf = df.drop(['source', 'target'], axis=1)\n",
    "# and rearrange the columns to source_id, dest_id, timestamps\n",
    "cols = newdf.columns.tolist()\n",
    "time = cols[0]\n",
    "cols.pop(0)\n",
    "cols.append(time)\n",
    "newdf = newdf[cols]\n",
    "dfs_all_deltas = []\n",
    "for i in range(1, 13):\n",
    "    dfs_all_deltas.append(bidirec_script.dup_edges(newdf, i, 12))\n",
    "# now save all of these to files for analysis\n",
    "for d in range(len(dfs_all_deltas)):\n",
    "    dfs_all_deltas[d].to_csv(path_or_buf= 'input/nepal_d_{num}.txt'.format(num=d+1), sep=' ', header=False, index=False)"
   ]
  },
  {
   "cell_type": "code",
   "execution_count": 5,
   "id": "12851375",
   "metadata": {},
   "outputs": [
    {
     "name": "stdout",
     "output_type": "stream",
     "text": [
      "edgeNum: 4069\n",
      "inserting...\n",
      "sorting...\n",
      "loaded file\n",
      "edgeNum: 4374\n",
      "inserting...\n",
      "sorting...\n",
      "loaded file\n",
      "edgeNum: 4679\n",
      "inserting...\n",
      "sorting...\n",
      "loaded file\n",
      "edgeNum: 4984\n",
      "inserting...\n",
      "sorting...\n",
      "loaded file\n",
      "edgeNum: 5342\n",
      "inserting...\n",
      "sorting...\n",
      "loaded file\n",
      "edgeNum: 5520\n",
      "inserting...\n",
      "sorting...\n",
      "loaded file\n",
      "edgeNum: 5698\n",
      "inserting...\n",
      "sorting...\n",
      "loaded file\n",
      "edgeNum: 6077\n",
      "inserting...\n",
      "sorting...\n",
      "loaded file\n",
      "edgeNum: 6456\n",
      "inserting...\n",
      "sorting...\n",
      "loaded file\n",
      "edgeNum: 6835\n",
      "inserting...\n",
      "sorting...\n",
      "loaded file\n",
      "edgeNum: 7222\n",
      "inserting...\n",
      "sorting...\n",
      "loaded file\n"
     ]
    }
   ],
   "source": [
    "# run the C++ file on the correct Nepal net\n",
    "for i in range(1, 13):\n",
    "    process = subprocess.Popen([\"./FAST_temporal_motif\", \"-input\", \"input/nepal_d_{num}.txt\".format(num=i), \"-output\", \"output/nepal_out_d_{num}.txt\".format(num=i), \"-timesOut\", \"output/nepal_times_d_{num}.txt\".format(num=i), \"-w\", \"{num}\".format(num=i)])"
   ]
  },
  {
   "cell_type": "code",
   "execution_count": 6,
   "id": "a53c17fe",
   "metadata": {},
   "outputs": [
    {
     "name": "stdout",
     "output_type": "stream",
     "text": [
      "edgeNum: 7528\n",
      "inserting...\n",
      "sorting...\n",
      "loaded file\n"
     ]
    }
   ],
   "source": [
    "# then get that output, save it as a dateframe appropriately for analysis"
   ]
  },
  {
   "cell_type": "code",
   "execution_count": 7,
   "id": "b53c3460",
   "metadata": {},
   "outputs": [],
   "source": [
    "# finally graph the output for the motifs i guess"
   ]
  }
 ],
 "metadata": {
  "kernelspec": {
   "display_name": "Python 3 (ipykernel)",
   "language": "python",
   "name": "python3"
  },
  "language_info": {
   "codemirror_mode": {
    "name": "ipython",
    "version": 3
   },
   "file_extension": ".py",
   "mimetype": "text/x-python",
   "name": "python",
   "nbconvert_exporter": "python",
   "pygments_lexer": "ipython3",
   "version": "3.8.10"
  }
 },
 "nbformat": 4,
 "nbformat_minor": 5
}
