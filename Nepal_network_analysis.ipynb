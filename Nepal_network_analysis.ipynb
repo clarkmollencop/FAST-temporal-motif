{
 "cells": [
  {
   "cell_type": "code",
   "execution_count": 1,
   "id": "868b4bac",
   "metadata": {},
   "outputs": [],
   "source": [
    "# Clark Mollencop\n",
    "# analyzing the Nepal network with the 3 edge motif counts"
   ]
  },
  {
   "cell_type": "code",
   "execution_count": 2,
   "id": "063c0f2d",
   "metadata": {},
   "outputs": [],
   "source": [
    "import pandas as pd\n",
    "import seaborn as sns\n",
    "import networkx as nx\n",
    "import subprocess # to call the C++ executable that actually does the network analysis\n",
    "import glob # to work with files later on"
   ]
  },
  {
   "cell_type": "code",
   "execution_count": 3,
   "id": "db6f3b96",
   "metadata": {},
   "outputs": [],
   "source": [
    "# runs the program with the command line arguments\n",
    "# process = subprocess.Popen([\"./FAST_temporal_motif\", \"-input\", \"input/testAll.txt\", \"-output\", \"output/outputAll.txt\", \"-timesOut\", \"output/timesAll.txt\", \"-w\", \"3\"])"
   ]
  },
  {
   "cell_type": "code",
   "execution_count": 4,
   "id": "502f7eb8",
   "metadata": {},
   "outputs": [],
   "source": [
    "# convert Nepal network to correct format"
   ]
  },
  {
   "cell_type": "code",
   "execution_count": 5,
   "id": "12851375",
   "metadata": {},
   "outputs": [],
   "source": [
    "# run the C++ file on the correct Nepal net (need duplicated edges though)"
   ]
  },
  {
   "cell_type": "code",
   "execution_count": null,
   "id": "a53c17fe",
   "metadata": {},
   "outputs": [],
   "source": [
    "# then get that output, save it as a dateframe appropriately"
   ]
  },
  {
   "cell_type": "code",
   "execution_count": null,
   "id": "b53c3460",
   "metadata": {},
   "outputs": [],
   "source": [
    "# finally graph the output for the motifs i guess"
   ]
  }
 ],
 "metadata": {
  "kernelspec": {
   "display_name": "Python 3 (ipykernel)",
   "language": "python",
   "name": "python3"
  },
  "language_info": {
   "codemirror_mode": {
    "name": "ipython",
    "version": 3
   },
   "file_extension": ".py",
   "mimetype": "text/x-python",
   "name": "python",
   "nbconvert_exporter": "python",
   "pygments_lexer": "ipython3",
   "version": "3.8.10"
  }
 },
 "nbformat": 4,
 "nbformat_minor": 5
}
