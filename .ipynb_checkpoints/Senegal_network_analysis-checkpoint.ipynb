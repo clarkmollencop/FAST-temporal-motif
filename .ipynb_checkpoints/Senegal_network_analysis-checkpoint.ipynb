{
 "cells": [
  {
   "cell_type": "code",
   "execution_count": 1,
   "id": "e7e6bc9c",
   "metadata": {},
   "outputs": [],
   "source": [
    "# Clark Mollencop\n",
    "# analyzing the Senegal network with the 3 edge motif counts\n",
    "# Summer 2022"
   ]
  },
  {
   "cell_type": "code",
   "execution_count": 2,
   "id": "9eb1f73d",
   "metadata": {},
   "outputs": [],
   "source": [
    "import pandas as pd\n",
    "import seaborn as sns\n",
    "import subprocess # to call the C++ executable that actually does the network analysis\n",
    "import glob # to work with files later on\n",
    "import bidirec_script # for input/formatting"
   ]
  },
  {
   "cell_type": "code",
   "execution_count": 3,
   "id": "34393733",
   "metadata": {},
   "outputs": [],
   "source": [
    "#### this cell: convert Senegal network to correct format ####\n",
    "df = pd.read_csv('networks/senegal.txt', sep=',', usecols=['source', 'target', 'month'])\n",
    "df.columns = ['timestamp', 'source_id', 'dest_id']\n",
    "cols = df.columns.tolist()\n",
    "time = cols[0]\n",
    "cols.pop(0)\n",
    "cols.append(time)\n",
    "df = df[cols]\n",
    "dfs_all_deltas = []\n",
    "for i in range(1, 13):\n",
    "    dfs_all_deltas.append(bidirec_script.dup_edges(df, i, 12))\n",
    "# now save all of these to files for analysis\n",
    "for d in range(len(dfs_all_deltas)):\n",
    "    dfs_all_deltas[d].to_csv(path_or_buf= 'input/senegal_d_{num}.txt'.format(num=d+1), sep=' ', header=False, index=False)"
   ]
  },
  {
   "cell_type": "code",
   "execution_count": 4,
   "id": "e20c9155",
   "metadata": {},
   "outputs": [
    {
     "name": "stdout",
     "output_type": "stream",
     "text": [
      "edgeNum: 361\n",
      "inserting...\n",
      "sorting...\n",
      "loaded file\n",
      "edgeNum: 390\n",
      "inserting...\n",
      "sorting...\n",
      "loaded file\n",
      "edgeNum: 418\n",
      "inserting...\n",
      "sorting...\n",
      "loaded file\n",
      "edgeNum: 446\n",
      "inserting...\n",
      "sorting...\n",
      "loaded file\n",
      "edgeNum: 474\n",
      "inserting...\n",
      "sorting...\n",
      "loaded file\n",
      "edgeNum: 502\n",
      "inserting...\n",
      "sorting...\n",
      "loaded file\n",
      "edgeNum: 528\n",
      "inserting...\n",
      "sorting...\n",
      "loaded file\n",
      "edgeNum: 554\n",
      "inserting...\n",
      "sorting...\n",
      "loaded file\n",
      "edgeNum: 580\n",
      "inserting...\n",
      "sorting...\n",
      "loaded file\n",
      "edgeNum: 606\n",
      "inserting...\n",
      "sorting...\n",
      "loaded file\n",
      "edgeNum: 635\n",
      "inserting...\n",
      "sorting...\n",
      "loaded file\n",
      "edgeNum: 664\n",
      "inserting...\n",
      "sorting...\n",
      "loaded file\n"
     ]
    }
   ],
   "source": [
    "# run the C++ file on the correct Nepal net\n",
    "for i in range(1, 13):\n",
    "    process = subprocess.Popen([\"./FAST_temporal_motif\", \"-input\", \"input/senegal_d_{num}.txt\".format(num=i), \"-output\", \"output/senegal_out_d_{num}.txt\".format(num=i), \"-timesOut\", \"output/senegal_times_d_{num}.txt\".format(num=i), \"-w\", \"{num}\".format(num=i)])"
   ]
  },
  {
   "cell_type": "code",
   "execution_count": 5,
   "id": "f9084fe9",
   "metadata": {},
   "outputs": [
    {
     "name": "stdout",
     "output_type": "stream",
     "text": [
      "     motif  time  count  delta\n",
      "0        0     1    909     11\n",
      "1        0     2    915     11\n",
      "2        0     3    715     11\n",
      "3        0     4    716     11\n",
      "4        0     5    721     11\n",
      "..     ...   ...    ...    ...\n",
      "427     35     8     15      4\n",
      "428     35     9     16      4\n",
      "429     35    10     16      4\n",
      "430     35    11     15      4\n",
      "431     35    12     14      4\n",
      "\n",
      "[5184 rows x 4 columns]\n"
     ]
    }
   ],
   "source": [
    "# then get that output, save it as a dateframe appropriately for analysis\n",
    "# list of dataframes of the outputs for analysis\n",
    "# cols: column 1: motif number (0-36), column 2: times at which the motif occurred\n",
    "df_times = []\n",
    "for name in glob.glob(\"output/senegal_times_d_?*.txt\"):\n",
    "    sngraph = pd.read_csv(name)\n",
    "    df_times.append(sngraph)\n",
    "df_times = pd.concat(df_times)\n",
    "print(df_times)"
   ]
  },
  {
   "cell_type": "code",
   "execution_count": 6,
   "id": "2072f0ad",
   "metadata": {},
   "outputs": [
    {
     "name": "stdout",
     "output_type": "stream",
     "text": [
      "      motif  time  delta  count\n",
      "0         0     1      1     28\n",
      "1         0     1      2     34\n",
      "2         0     1      3     97\n",
      "3         0     1      4    152\n",
      "4         0     1      5    233\n",
      "...     ...   ...    ...    ...\n",
      "5179     35    12      8     66\n",
      "5180     35    12      9     81\n",
      "5181     35    12     10    100\n",
      "5182     35    12     11    120\n",
      "5183     35    12     12    144\n",
      "\n",
      "[5184 rows x 4 columns]\n"
     ]
    }
   ],
   "source": [
    "# finally graph the output for the motifs\n",
    "df_times = df_times.groupby(['motif', 'time', 'delta']).sum().reset_index()\n",
    "# below is the counts for all motifs, while I want a plot for each motif\n",
    "# sns.lineplot(data=df_times, x='time', y='count', hue='delta', legend='full')\n",
    "print(df_times)"
   ]
  },
  {
   "cell_type": "code",
   "execution_count": null,
   "id": "9d566098",
   "metadata": {},
   "outputs": [],
   "source": []
  }
 ],
 "metadata": {
  "kernelspec": {
   "display_name": "Python 3 (ipykernel)",
   "language": "python",
   "name": "python3"
  },
  "language_info": {
   "codemirror_mode": {
    "name": "ipython",
    "version": 3
   },
   "file_extension": ".py",
   "mimetype": "text/x-python",
   "name": "python",
   "nbconvert_exporter": "python",
   "pygments_lexer": "ipython3",
   "version": "3.8.10"
  }
 },
 "nbformat": 4,
 "nbformat_minor": 5
}
