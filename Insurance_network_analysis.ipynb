{
 "cells": [
  {
   "cell_type": "code",
   "execution_count": 2,
   "id": "5357e7e0",
   "metadata": {},
   "outputs": [],
   "source": [
    "# Clark Mollencop\n",
    "# analyze Insurance claims net witn 3-edge motifs"
   ]
  },
  {
   "cell_type": "code",
   "execution_count": 3,
   "id": "4764bc86",
   "metadata": {},
   "outputs": [],
   "source": [
    "import pandas as pd\n",
    "import seaborn as sns\n",
    "import subprocess # to call the C++ executable that actually does the network analysis\n",
    "import glob # to work with files later on\n",
    "import bidirec_script # for input/formatting"
   ]
  },
  {
   "cell_type": "code",
   "execution_count": 4,
   "id": "5afa4c10",
   "metadata": {},
   "outputs": [
    {
     "name": "stdout",
     "output_type": "stream",
     "text": [
      "         zip_src  zip_dest  month  number        dist\n",
      "0          22405     22401     10   10732    9.205179\n",
      "1          22032     20151     10     111   17.479639\n",
      "2          24501     24605     10     265  247.963582\n",
      "3          20124     23060     10      42   31.371954\n",
      "4          22153     22042     10    1667    5.202391\n",
      "...          ...       ...    ...     ...         ...\n",
      "3984945    24476     22801     57       9   40.202308\n",
      "3984946    24523     22191     57       6  253.011456\n",
      "3984947    24517     24354     57      12  256.099182\n",
      "3984948    24216     24226     57       4   53.043826\n",
      "3984949    24301     23707     57       2  497.189169\n",
      "\n",
      "[3984950 rows x 5 columns]\n",
      "count    3.984950e+06\n",
      "mean     1.071738e+02\n",
      "std      1.157832e+02\n",
      "min      0.000000e+00\n",
      "25%      2.796371e+01\n",
      "50%      6.530877e+01\n",
      "75%      1.406289e+02\n",
      "max      8.876606e+02\n",
      "Name: dist, dtype: float64\n",
      "count    3.984950e+06\n",
      "mean     1.617044e+02\n",
      "std      1.037454e+03\n",
      "min      1.000000e+00\n",
      "25%      2.000000e+00\n",
      "50%      8.000000e+00\n",
      "75%      3.700000e+01\n",
      "max      6.083500e+04\n",
      "Name: number, dtype: float64\n",
      "60\n"
     ]
    }
   ],
   "source": [
    "ins_df = pd.read_csv('networks/network-all-w-dist.txt')\n",
    "ins_df.rename(columns={'month(with Jan 2016 as 1)': 'month'}, inplace=True)\n",
    "print(ins_df)\n",
    "print(ins_df['dist'].describe())\n",
    "print(ins_df['number'].describe())\n",
    "print(ins_df['month'].max())"
   ]
  },
  {
   "cell_type": "code",
   "execution_count": 5,
   "id": "b88396c8",
   "metadata": {},
   "outputs": [],
   "source": [
    "# SKIP THIS FOR NOW\n",
    "# df = pd.read_csv('networks/network-all-w-dist.txt', sep=',', usecols=['zip_src', 'zip_dest', 'month(with Jan 2016 as 1)'])\n",
    "# df.rename(columns = {'month(with Jan 2016 as 1)': 'timestamp'}, inplace=True)\n",
    "# dfs_all_deltas = []\n",
    "# # edge duplication logic not right in bidirec_script.dup_edges\n",
    "# # this duplicates edges with timestamp <= delta to have timestamps\n",
    "# # 60 + delta to capture effects at the end\n",
    "# for i in range(1, 13):\n",
    "#     df_dup = (df.loc[df['timestamp'] <= i])\n",
    "#     df_dup_new = pd.concat([df, \n",
    "#                             pd.concat([df_dup.iloc[:,[0,1]],\n",
    "#                                       df_dup.iloc[:,[2]]+60], axis=1)],\n",
    "#                           ignore_index=True)\n",
    "# for d in range(len(dfs_all_deltas)):\n",
    "#     dfs_all_deltas[d].to_csv(path_or_buf= 'input/insurance_d_{num}.txt'.format(num=d+1), sep=' ', header=False, index=False)"
   ]
  },
  {
   "cell_type": "code",
   "execution_count": 12,
   "id": "f758f861",
   "metadata": {},
   "outputs": [
    {
     "name": "stdout",
     "output_type": "stream",
     "text": [
      "count    3.275676e+06\n",
      "mean     1.604066e+02\n",
      "std      1.027386e+03\n",
      "min      1.000000e+00\n",
      "25%      2.000000e+00\n",
      "50%      8.000000e+00\n",
      "75%      3.700000e+01\n",
      "max      6.083500e+04\n",
      "Name: number, dtype: float64\n",
      "count    709274.000000\n",
      "mean        167.697861\n",
      "std        1082.718904\n",
      "min           1.000000\n",
      "25%           3.000000\n",
      "50%           9.000000\n",
      "75%          41.000000\n",
      "max       55012.000000\n",
      "Name: number, dtype: float64\n"
     ]
    }
   ],
   "source": [
    "# separate df into pre and post covid dfs\n",
    "pre_df = ins_df[ins_df['month'] < 51 ]\n",
    "post_df = ins_df[ins_df['month'] >= 51 ]\n",
    "print(pre_df['number'].describe())\n",
    "print(post_df['number'].describe())"
   ]
  },
  {
   "cell_type": "code",
   "execution_count": 7,
   "id": "29c32f42",
   "metadata": {},
   "outputs": [
    {
     "name": "stdout",
     "output_type": "stream",
     "text": [
      "avg pre: 21.19004157803015\n",
      "avg post: 23.16095318775191\n"
     ]
    }
   ],
   "source": [
    "pre_covid_claims = pre_df['number'].sum()\n",
    "post_covid_claims = post_df['number'].sum()\n",
    "pre_covid_dist, post_covid_dist = 0, 0\n",
    "\n",
    "for index, row in pre_df.iterrows():\n",
    "    pre_covid_dist += row['number'] * row['dist']\n",
    "for index, row in post_df.iterrows():\n",
    "    post_covid_dist += row['number'] * row['dist']\n",
    "print(f'avg pre: {pre_covid_dist/pre_covid_claims}')\n",
    "print(f'avg post: {post_covid_dist/post_covid_claims}')"
   ]
  },
  {
   "cell_type": "code",
   "execution_count": null,
   "id": "da5e9d22",
   "metadata": {},
   "outputs": [],
   "source": [
    "# actually y axis might be wrong\n",
    "pre_df.groupby('dist')\n",
    "# print(pre_df)\n",
    "post_df.hist(column='dist')"
   ]
  },
  {
   "cell_type": "code",
   "execution_count": null,
   "id": "1e32eaa8",
   "metadata": {},
   "outputs": [],
   "source": [
    "# maybe can ignore code below, doing it above more efficiently?"
   ]
  },
  {
   "cell_type": "code",
   "execution_count": 9,
   "id": "13a57028",
   "metadata": {},
   "outputs": [],
   "source": [
    "# analyzing average claim distance for pre covid (before March 2020)\n",
    "# vs after covid (March 2020-end)\n",
    "# month 1 is Jan 2016, so March 2020 is month 51\n",
    "pre_covid_dist = 0\n",
    "pre_covid_claims = 0\n",
    "post_covid_dist = 0\n",
    "post_covid_claims = 0\n",
    "for index, row in ins_df.iterrows():\n",
    "    # if pre covid\n",
    "    if row['month'] < 51:\n",
    "        # increment total pre covid distance \n",
    "        pre_covid_dist += row['number'] * row['dist']\n",
    "        # increment number of total claims\n",
    "        pre_covid_claims += row['number']\n",
    "    elif row['month'] >= 51: # post covid\n",
    "        post_covid_dist += row['number'] * row['dist']\n",
    "        post_covid_claims += row['number']\n",
    "\n",
    "avg_dist_pre = pre_covid_dist / pre_covid_claims\n",
    "avg_dist_post = post_covid_dist / post_covid_claims\n"
   ]
  },
  {
   "cell_type": "code",
   "execution_count": 12,
   "id": "ac03ba55",
   "metadata": {},
   "outputs": [
    {
     "name": "stdout",
     "output_type": "stream",
     "text": [
      "average pre covid distance 21.19004157803015 = pre covid distance 11134099536.438187 / pre covid claims 525440193.0\n",
      "average post covid distance 23.16095318775191 = post covid distance 2754850231.9894624 / post covid claims 118943733.0\n"
     ]
    }
   ],
   "source": [
    "print(f'average pre covid distance {avg_dist_pre} = pre covid distance {pre_covid_dist} / pre covid claims {pre_covid_claims}')\n",
    "print(f'average post covid distance {avg_dist_post} = post covid distance {post_covid_dist} / post covid claims {post_covid_claims}')"
   ]
  },
  {
   "cell_type": "code",
   "execution_count": 15,
   "id": "ec4d2d9d",
   "metadata": {},
   "outputs": [],
   "source": [
    "# do analysis for year pre covid (March 2019 - Dec 2019) vs post covid (March 2020 - Dec 2020)\n",
    "# to eliminate possible time based variance?\n",
    "pre_dist, pre_claims = 0, 0\n",
    "post_dist, post_claims = 0, 0\n",
    "for index, row in ins_df.iterrows():\n",
    "    # march 2019 - dec 2019 (month 39 - month 48)\n",
    "    if row['month'] > 38 and row['month'] < 49:\n",
    "        pre_dist += row['number'] * row['dist']\n",
    "        pre_claims += row['number']\n",
    "    # march 2020 to end, which is dec 2020\n",
    "    elif row['month'] >= 51:\n",
    "        post_dist += row['number'] * row['dist']\n",
    "        post_claims += row['number']\n",
    "avg_dist_pre_yr = pre_dist / pre_claims\n",
    "avg_dist_post_yr = post_dist / post_claims"
   ]
  },
  {
   "cell_type": "code",
   "execution_count": 16,
   "id": "ff502d17",
   "metadata": {},
   "outputs": [
    {
     "name": "stdout",
     "output_type": "stream",
     "text": [
      "average pre covid distance 21.69775641727144 = pre covid distance 2742667145.82903 / pre covid claims 126403260.0\n",
      "average post covid distance 23.16095318775191 = post covid distance 2754850231.9894624 / post covid claims 118943733.0\n"
     ]
    }
   ],
   "source": [
    "print(f'average pre covid distance {avg_dist_pre_yr} = pre covid distance {pre_dist} / pre covid claims {pre_claims}')\n",
    "print(f'average post covid distance {avg_dist_post_yr} = post covid distance {post_dist} / post covid claims {post_claims}')"
   ]
  },
  {
   "cell_type": "code",
   "execution_count": null,
   "id": "cd6a430f",
   "metadata": {},
   "outputs": [],
   "source": []
  }
 ],
 "metadata": {
  "kernelspec": {
   "display_name": "Python 3 (ipykernel)",
   "language": "python",
   "name": "python3"
  },
  "language_info": {
   "codemirror_mode": {
    "name": "ipython",
    "version": 3
   },
   "file_extension": ".py",
   "mimetype": "text/x-python",
   "name": "python",
   "nbconvert_exporter": "python",
   "pygments_lexer": "ipython3",
   "version": "3.8.10"
  }
 },
 "nbformat": 4,
 "nbformat_minor": 5
}
